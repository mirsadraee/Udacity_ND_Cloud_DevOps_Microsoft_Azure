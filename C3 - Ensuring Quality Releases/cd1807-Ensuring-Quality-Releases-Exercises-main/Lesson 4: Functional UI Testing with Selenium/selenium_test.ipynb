{
 "cells": [
  {
   "cell_type": "code",
   "execution_count": 24,
   "metadata": {},
   "outputs": [],
   "source": [
    "from selenium import webdriver\n",
    "from selenium.webdriver.common.by import By\n"
   ]
  },
  {
   "cell_type": "code",
   "execution_count": 25,
   "metadata": {},
   "outputs": [
    {
     "data": {
      "text/plain": [
       "<selenium.webdriver.chrome.webdriver.WebDriver (session=\"be6acba7bdb46dd5594598dc07119892\")>"
      ]
     },
     "execution_count": 25,
     "metadata": {},
     "output_type": "execute_result"
    }
   ],
   "source": [
    "driver = webdriver.Chrome()\n",
    "\n",
    "driver.get(\"https://www.selenium.dev/selenium/web/web-form.html\")\n",
    "driver"
   ]
  },
  {
   "cell_type": "code",
   "execution_count": 26,
   "metadata": {},
   "outputs": [
    {
     "data": {
      "text/plain": [
       "'Web form'"
      ]
     },
     "execution_count": 26,
     "metadata": {},
     "output_type": "execute_result"
    }
   ],
   "source": [
    "title = driver.title\n",
    "title"
   ]
  },
  {
   "cell_type": "code",
   "execution_count": 36,
   "metadata": {},
   "outputs": [],
   "source": [
    "text_box = driver.find_element(by=By.NAME, value=\"my-text\")\n",
    "submit_button = driver.find_element(by=By.CSS_SELECTOR, value=\"button\")\n"
   ]
  },
  {
   "cell_type": "code",
   "execution_count": 39,
   "metadata": {},
   "outputs": [],
   "source": [
    "text_box.send_keys(\"Selenium\")\n",
    "submit_button.click()"
   ]
  },
  {
   "cell_type": "code",
   "execution_count": 41,
   "metadata": {},
   "outputs": [
    {
     "data": {
      "text/plain": [
       "'Received!'"
      ]
     },
     "execution_count": 41,
     "metadata": {},
     "output_type": "execute_result"
    }
   ],
   "source": [
    "message = driver.find_element(by=By.ID, value=\"message\")\n",
    "text = message.text\n",
    "text"
   ]
  },
  {
   "cell_type": "code",
   "execution_count": 45,
   "metadata": {},
   "outputs": [],
   "source": [
    "driver.quit()"
   ]
  },
  {
   "cell_type": "code",
   "execution_count": 42,
   "metadata": {},
   "outputs": [],
   "source": [
    "from selenium import webdriver\n",
    "from selenium.webdriver.common.by import By\n",
    "\n",
    "\n",
    "def test_eight_components():\n",
    "    driver = webdriver.Chrome()\n",
    "\n",
    "    driver.get(\"https://www.selenium.dev/selenium/web/web-form.html\")\n",
    "\n",
    "    title = driver.title\n",
    "    assert title == \"Web form\"\n",
    "\n",
    "    driver.implicitly_wait(0.5)\n",
    "\n",
    "    text_box = driver.find_element(by=By.NAME, value=\"my-text\")\n",
    "    submit_button = driver.find_element(by=By.CSS_SELECTOR, value=\"button\")\n",
    "\n",
    "    text_box.send_keys(\"Selenium\")\n",
    "    submit_button.click()\n",
    "\n",
    "    message = driver.find_element(by=By.ID, value=\"message\")\n",
    "    value = message.text\n",
    "    assert value == \"Received!\"\n",
    "\n",
    "    driver.quit()"
   ]
  },
  {
   "cell_type": "code",
   "execution_count": 43,
   "metadata": {},
   "outputs": [],
   "source": [
    "test_eight_components()"
   ]
  },
  {
   "cell_type": "code",
   "execution_count": 44,
   "metadata": {},
   "outputs": [
    {
     "name": "stdout",
     "output_type": "stream",
     "text": [
      "Title of the page at https://www.example.com: Example Domain\n",
      "Title of the page at https://www.google.com: Google\n",
      "Title of the page at https://www.github.com: GitHub: Let’s build from here · GitHub\n"
     ]
    }
   ],
   "source": [
    "from selenium import webdriver\n",
    "from selenium.webdriver.common.keys import Keys\n",
    "import time\n",
    "\n",
    "# List of URLs you want to open\n",
    "urls = [\"https://www.example.com\", \"https://www.google.com\", \"https://www.github.com\"]\n",
    "\n",
    "# Set up the Chrome WebDriver\n",
    "driver = webdriver.Chrome()\n",
    "\n",
    "try:\n",
    "    # Loop through each URL in the list\n",
    "    for url in urls:\n",
    "        # Open the URL in the browser\n",
    "        driver.get(url)\n",
    "        \n",
    "        # You can add additional actions here, such as filling out forms, clicking buttons, etc.\n",
    "        # For example, let's print the page title for each URL\n",
    "        print(f\"Title of the page at {url}: {driver.title}\")\n",
    "        \n",
    "        # Wait for a few seconds (you might want to adjust this based on your needs)\n",
    "        time.sleep(2)\n",
    "\n",
    "except Exception as e:\n",
    "    print(f\"An error occurred: {e}\")\n",
    "\n",
    "finally:\n",
    "    # Close the browser window when done\n",
    "    driver.quit()\n"
   ]
  }
 ],
 "metadata": {
  "kernelspec": {
   "display_name": "Python 3",
   "language": "python",
   "name": "python3"
  },
  "language_info": {
   "codemirror_mode": {
    "name": "ipython",
    "version": 3
   },
   "file_extension": ".py",
   "mimetype": "text/x-python",
   "name": "python",
   "nbconvert_exporter": "python",
   "pygments_lexer": "ipython3",
   "version": "3.11.6"
  }
 },
 "nbformat": 4,
 "nbformat_minor": 2
}
